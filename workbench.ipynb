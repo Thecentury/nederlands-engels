{
 "cells": [
  {
   "cell_type": "code",
   "execution_count": 2,
   "metadata": {
    "dotnet_interactive": {
     "language": "fsharp"
    },
    "polyglot_notebook": {
     "kernelName": "fsharp"
    },
    "vscode": {
     "languageId": "polyglot-notebook"
    }
   },
   "outputs": [
    {
     "data": {
      "text/html": [
       "<div><div></div><div></div><div><strong>Installed Packages</strong><ul><li><span>AngleSharp, 1.0.1</span></li><li><span>FSharp.Core.Fluent, 3.0.2</span></li></ul></div></div>"
      ]
     },
     "metadata": {},
     "output_type": "display_data"
    }
   ],
   "source": [
    "#r \"nuget:AngleSharp\"\n",
    "#r \"nuget:FSharp.Core.Fluent\""
   ]
  },
  {
   "cell_type": "code",
   "execution_count": 8,
   "metadata": {
    "dotnet_interactive": {
     "language": "fsharp"
    },
    "polyglot_notebook": {
     "kernelName": "fsharp"
    },
    "vscode": {
     "languageId": "polyglot-notebook"
    }
   },
   "outputs": [],
   "source": [
    "open FSharp.Core.Fluent\n",
    "open AngleSharp\n",
    "open AngleSharp.Io\n",
    "open System.IO\n",
    "open System.Text.RegularExpressions"
   ]
  },
  {
   "cell_type": "code",
   "execution_count": 9,
   "metadata": {
    "dotnet_interactive": {
     "language": "fsharp"
    },
    "polyglot_notebook": {
     "kernelName": "fsharp"
    },
    "vscode": {
     "languageId": "polyglot-notebook"
    }
   },
   "outputs": [],
   "source": [
    "let loadHtml(path : string) =\n",
    "    let html = File.ReadAllText(path)\n",
    "    let ctx = BrowsingContext.New(Configuration.Default.WithDefaultLoader())\n",
    "    let html = ctx.OpenAsync(Action<VirtualResponse>(fun req -> req.Content(html) |> ignore)).Result\n",
    "    html.Body\n",
    "\n",
    "let normalizeSpaces (s : string) =\n",
    "    Regex.Replace(s, @\"\\s+\", \" \").Trim()"
   ]
  },
  {
   "cell_type": "code",
   "execution_count": 5,
   "metadata": {
    "dotnet_interactive": {
     "language": "fsharp"
    },
    "polyglot_notebook": {
     "kernelName": "fsharp"
    },
    "vscode": {
     "languageId": "polyglot-notebook"
    }
   },
   "outputs": [],
   "source": [
    "let en = loadHtml @\"./Data/en/1.xhtml\"\n",
    "let nl = loadHtml @\"./Data/nl/1.xhtml\""
   ]
  },
  {
   "cell_type": "code",
   "execution_count": 14,
   "metadata": {
    "dotnet_interactive": {
     "language": "fsharp"
    },
    "polyglot_notebook": {
     "kernelName": "fsharp"
    },
    "vscode": {
     "languageId": "polyglot-notebook"
    }
   },
   "outputs": [
    {
     "data": {
      "text/plain": [
       "CHAPTER I. MR. SHERLOCK HOLMES.\n",
       "\n",
       "In the year 1878 I took my degree of Doctor of Medicine of the University of London, and proceeded to Netley to go through the course prescribed for surgeons in the army. Having completed my studies there, I was duly attached to the Fifth Northumberland Fusiliers as Assistant Surgeon. The regiment was stationed in India at the time, and before I could join it, the second Afghan war had broken out. On landing at Bombay, I learned that my corps had advanced through the passes, and was already deep in the enemy's country. I followed, however, with many other officers who were in the same situation as myself, and succeeded in reaching Candahar in safety, where I found my regiment, and at once entered upon my new duties.\n",
       "\n",
       "The campaign brought honours and promotion to many, but for me it had nothing but misfortune and disaster. I was removed from my brigade and attached to the Berkshires, with whom I served at the fatal battle of Maiwand. There I was struck on the shoulder by a Jezail bullet, which shattered the bone and grazed the subclavian artery. I should have fallen into the hands of the murderous Ghazis had it not been for the devotion and courage shown by Murray, my orderly, who threw me across a pack-horse, and succeeded in bringing me safely to the British lines.\n",
       "\n",
       "Worn with pain, and weak from the prolonged hardships which I had undergone, I was removed, with a great train of wounded sufferers, to the base hospital at Peshawar. Here I rallied, and had already improved so far as to be able to walk about the wards, and even to bask a little upon the verandah, when I was struck down by enteric fever, that curse of our Indian possessions. For months my life was despaired of, and when at last I came to myself and became convalescent, I was so weak and emaciated that a medical board determined that not a day should be lost in sending me back to England. I was dispatched, accordingly, in the troopship \"Orontes,\" and landed a month later on Portsmouth jetty, with my health irretrievably ruined, but with permission from a paternal government to spend the next nine months in attempting to improve it.\n",
       "\n",
       "I had neither kith nor kin in England, and was therefore as free as air—or as free as an income of eleven shillings and sixpence a day will permit a man to be. Under such circumstances, I naturally gravitated to London, that great cesspool into which all the loungers and idlers of the Empire are irresistibly drained. There I stayed for some time at a private hotel in the Strand, leading a comfortless, meaningless existence, and spending such money as I had, considerably more freely than I ought. So alarming did the state of my finances become, that I soon realized that I must either leave the metropolis and rusticate somewhere in the country, or that I must make a complete alteration in my style of living. Choosing the latter alternative, I began by making up my mind to leave the hotel, and to take up my quarters in some less pretentious and less expensive domicile.\n",
       "\n",
       "On the very day that I had come to this conclusion, I was standing at the Criterion Bar, when some one tapped me on the shoulder, and turning round I recognized young Stamford, who had been a dresser under me at Barts. The sight of a friendly face in the great wilderness of London is a pleasant thing indeed to a lonely man. In old days Stamford had never been a particular crony of mine, but now I hailed him with enthusiasm, and he, in his turn, appeared to be delighted to see me. In the exuberance of my joy, I asked him to lunch with me at the Holborn, and we started off together in a hansom.\n",
       "\n",
       "\"Whatever have you been doing with yourself, Watson?\" he asked in undisguised wonder, as we rattled through the crowded London streets. \"You are as thin as a lath and as brown as a nut.\"\n",
       "\n",
       "I gave him a short sketch of my adventures, and had hardly concluded it by the time that we reached our destination.\n",
       "\n",
       "\"Poor devil!\" he said, commiseratingly, after he had listened to my misfortunes. \"What are you up to now?\"\n",
       "\n",
       "\"That's a strange thing,\" remarked my companion; \"you are the second man to-day that has used that expression to me.\"\n",
       "\n",
       "\"And who was the first?\" I asked.\n",
       "\n",
       "\"A fellow who is working at the chemical laboratory up at the hospital. He was bemoaning himself this morning because he could not get someone to go halves with him in some nice rooms which he had found, and which were too much for his purse.\"\n",
       "\n",
       "\"By Jove!\" I cried, \"if he really wants someone to share the rooms and the expense, I am the very man for him. I should prefer having a partner to being alone.\"\n",
       "\n",
       "Young Stamford looked rather strangely at me over his wine-glass. \"You don't know Sherlock Holmes yet,\" he said; \"perhaps you would not care for him as a constant companion.\"\n",
       "\n",
       "\"Why, what is there against him?\"\n",
       "\n",
       "\"Oh, I didn't say there was anything against him. He is a little queer in his ideas—an enthusiast in some branches of science. As far as I know he is a decent fellow enough.\"\n",
       "\n",
       "\"A medical student, I suppose?\" said I.\n",
       "\n",
       "\"No—I have no idea what he intends to go in for. I believe he is well up in anatomy, and he is a first-class chemist; but, as far as I know, he has never taken out any systematic medical classes. His studies are very desultory and eccentric, but he has amassed a lot of out-of-the way knowledge which would astonish his professors.\"\n",
       "\n",
       "\"Did you never ask him what he was going in for?\" I asked.\n",
       "\n",
       "\"No; he is not a man that it is easy to draw out, though he can be communicative enough when the fancy seizes him.\"\n",
       "\n",
       "\"I should like to meet him,\" I said. \"If I am to lodge with anyone, I should prefer a man of studious and quiet habits. I am not strong enough yet to stand much noise or excitement. I had enough of both in Afghanistan to last me for the remainder of my natural existence. How could I meet this friend of yours?\"\n",
       "\n",
       "\"He is sure to be at the laboratory,\" returned my companion. \"He either avoids the place for weeks, or else he works there from morning to night. If you like, we shall drive round together after luncheon.\"\n",
       "\n",
       "\"Certainly,\" I answered, and the conversation drifted away into other channels.\n",
       "\n",
       "As we made our way to the hospital after leaving the Holborn, Stamford gave me a few more particulars about the gentleman whom I proposed to take as a fellow-lodger.\n",
       "\n",
       "\"You mustn't blame me if you don't get on with him,\" he said; \"I know nothing more of him than I have learned from meeting him occasionally in the laboratory. You proposed this arrangement, so you must not hold me responsible.\"\n",
       "\n",
       "\"If we don't get on it will be easy to part company,\" I answered. \"It seems to me, Stamford,\" I added, looking hard at my companion, \"that you have some reason for washing your hands of the matter. Is this fellow's temper so formidable, or what is it? Don't be mealy-mouthed about it.\"\n",
       "\n",
       "\"It is not easy to express the inexpressible,\" he answered with a laugh. \"Holmes is a little too scientific for my tastes—it approaches to cold-bloodedness. I could imagine his giving a friend a little pinch of the latest vegetable alkaloid, not out of malevolence, you understand, but simply out of a spirit of inquiry in order to have an accurate idea of the effects. To do him justice, I think that he would take it himself with the same readiness. He appears to have a passion for definite and exact knowledge.\"\n",
       "\n",
       "\"Very right too.\"\n",
       "\n",
       "\"Yes, but it may be pushed to excess. When it comes to beating the subjects in the dissecting-rooms with a stick, it is certainly taking rather a bizarre shape.\"\n",
       "\n",
       "\"Beating the subjects!\"\n",
       "\n",
       "\"Yes, to verify how far bruises may be produced after death. I saw him at it with my own eyes.\"\n",
       "\n",
       "\"And yet you say he is not a medical student?\"\n",
       "\n",
       "\"No. Heaven knows what the objects of his studies are. But here we are, and you must form your own impressions about him.\" As he spoke, we turned down a narrow lane and passed through a small side-door, which opened into a wing of the great hospital. It was familiar ground to me, and I needed no guiding as we ascended the bleak stone staircase and made our way down the long corridor with its vista of whitewashed wall and dun-coloured doors. Near the further end a low arched passage branched away from it and led to the chemical laboratory.\n",
       "\n",
       "\"Dr. Watson, Mr. Sherlock Holmes,\" said Stamford, introducing us.\n",
       "\n",
       "\"How are you?\" he said cordially, gripping my hand with a strength for which I should hardly have given him credit. \"You have been in Afghanistan, I perceive.\"\n",
       "\n",
       "\"How on earth did you know that?\" I asked in astonishment.\n",
       "\n",
       "\"Never mind,\" said he, chuckling to himself. \"The question now is about hoemoglobin. No doubt you see the significance of this discovery of mine?\"\n",
       "\n",
       "\"It is interesting, chemically, no doubt,\" I answered, \"but practically——\"\n",
       "\n",
       "\"Why, man, it is the most practical medico-legal discovery for years. Don't you see that it gives us an infallible test for blood stains. Come over here now!\" He seized me by the coat-sleeve in his eagerness, and drew me over to the table at which he had been working. \"Let us have some fresh blood,\" he said, digging a long bodkin into his finger, and drawing off the resulting drop of blood in a chemical pipette. \"Now, I add this small quantity of blood to a litre of water. You perceive that the resulting mixture has the appearance of pure water. The proportion of blood cannot be more than one in a million. I have no doubt, however, that we shall be able to obtain the characteristic reaction.\" As he spoke, he threw into the vessel a few white crystals, and then added some drops of a transparent fluid. In an instant the contents assumed a dull mahogany colour, and a brownish dust was precipitated to the bottom of the glass jar.\n",
       "\n",
       "\"Ha! ha!\" he cried, clapping his hands, and looking as delighted as a child with a new toy. \"What do you think of that?\"\n",
       "\n",
       "\"It seems to be a very delicate test,\" I remarked.\n",
       "\n",
       "\"Beautiful! beautiful! The old Guiacum test was very clumsy and uncertain. So is the microscopic examination for blood corpuscles. The latter is valueless if the stains are a few hours old. Now, this appears to act as well whether the blood is old or new. Had this test been invented, there are hundreds of men now walking the earth who would long ago have paid the penalty of their crimes.\"\n",
       "\n",
       "\"Indeed!\" I murmured.\n",
       "\n",
       "\"Criminal cases are continually hinging upon that one point. A man is suspected of a crime months perhaps after it has been committed. His linen or clothes are examined, and brownish stains discovered upon them. Are they blood stains, or mud stains, or rust stains, or fruit stains, or what are they? That is a question which has puzzled many an expert, and why? Because there was no reliable test. Now we have the Sherlock Holmes' test, and there will no longer be any difficulty.\"\n",
       "\n",
       "His eyes fairly glittered as he spoke, and he put his hand over his heart and bowed as if to some applauding crowd conjured up by his imagination.\n",
       "\n",
       "\"You are to be congratulated,\" I remarked, considerably surprised at his enthusiasm.\n",
       "\n",
       "\"There was the case of Von Bischoff at Frankfort last year. He would certainly have been hung had this test been in existence. Then there was Mason of Bradford, and the notorious Muller, and Lefevre of Montpellier, and Samson of new Orleans. I could name a score of cases in which it would have been decisive.\"\n",
       "\n",
       "\"You seem to be a walking calendar of crime,\" said Stamford with a laugh. \"You might start a paper on those lines. Call it the 'Police News of the Past.'\"\n",
       "\n",
       "\"Very interesting reading it might be made, too,\" remarked Sherlock Holmes, sticking a small piece of plaster over the prick on his finger. \"I have to be careful,\" he continued, turning to me with a smile, \"for I dabble with poisons a good deal.\" He held out his hand as he spoke, and I noticed that it was all mottled over with similar pieces of plaster, and discoloured with strong acids.\n",
       "\n",
       "\"We came here on business,\" said Stamford, sitting down on a high three-legged stool, and pushing another one in my direction with his foot. \"My friend here wants to take diggings, and as you were complaining that you could get no one to go halves with you, I thought that I had better bring you together.\"\n",
       "\n",
       "Sherlock Holmes seemed delighted at the idea of sharing his rooms with me. \"I have my eye on a suite in Baker Street,\" he said, \"which would suit us down to the ground. You don't mind the smell of strong tobacco, I hope?\"\n",
       "\n",
       "\"I always smoke 'ship's' myself,\" I answered.\n",
       "\n",
       "\"That's good enough. I generally have chemicals about, and occasionally do experiments. Would that annoy you?\"\n",
       "\n",
       "\"By no means.\"\n",
       "\n",
       "\"Let me see—what are my other shortcomings. I get in the dumps at times, and don't open my mouth for days on end. You must not think I am sulky when I do that. Just let me alone, and I'll soon be right. What have you to confess now? It's just as well for two fellows to know the worst of one another before they begin to live together.\"\n",
       "\n",
       "I laughed at this cross-examination. \"I keep a bull pup,\" I said, \"and I object to rows because my nerves are shaken, and I get up at all sorts of ungodly hours, and I am extremely lazy. I have another set of vices when I'm well, but those are the principal ones at present.\"\n",
       "\n",
       "\"Do you include violin-playing in your category of rows?\" he asked, anxiously.\n",
       "\n",
       "\"It depends on the player,\" I answered. \"A well-played violin is a treat for the gods—a badly-played one——\"\n",
       "\n",
       "\"Oh, that's all right,\" he cried, with a merry laugh. \"I think we may consider the thing as settled—that is, if the rooms are agreeable to you.\"\n",
       "\n",
       "\"When shall we see them?\"\n",
       "\n",
       "\"Call for me here at noon to-morrow, and we'll go together and settle everything,\" he answered.\n",
       "\n",
       "\"All right—noon exactly,\" said I, shaking his hand.\n",
       "\n",
       "We left him working among his chemicals, and we walked together towards my hotel.\n",
       "\n",
       "\"By the way,\" I asked suddenly, stopping and turning upon Stamford, \"how the deuce did he know that I had come from Afghanistan?\"\n",
       "\n",
       "My companion smiled an enigmatical smile. \"That's just his little peculiarity,\" he said. \"A good many people have wanted to know how he finds things out.\"\n",
       "\n",
       "\"Oh! a mystery is it?\" I cried, rubbing my hands. \"This is very piquant. I am much obliged to you for bringing us together. 'The proper study of mankind is man,' you know.\"\n",
       "\n",
       "\"You must study him, then,\" Stamford said, as he bade me good-bye. \"You'll find him a knotty problem, though. I'll wager he learns more about you than you about him. Good-bye.\"\n",
       "\n",
       "\"Good-bye,\" I answered, and strolled on to my hotel, considerably interested in my new acquaintance."
      ]
     },
     "metadata": {},
     "output_type": "display_data"
    }
   ],
   "source": [
    "String.Join(\"\\n\\n\", en.QuerySelectorAll(\"span, p\").where(fun x -> x.Children.Length = 0).map(fun x -> normalizeSpaces x.TextContent).filter(fun s -> not (String.IsNullOrWhiteSpace s)))"
   ]
  },
  {
   "cell_type": "code",
   "execution_count": 18,
   "metadata": {
    "dotnet_interactive": {
     "language": "fsharp"
    },
    "polyglot_notebook": {
     "kernelName": "fsharp"
    },
    "vscode": {
     "languageId": "polyglot-notebook"
    }
   },
   "outputs": [
    {
     "data": {
      "text/plain": [
       "DEEL EEN\n",
       "\n",
       "Memoires van John H. Watson, voormalig legerarts\n",
       "\n",
       "Hoofdstuk 1 Sherlock Holmes\n",
       "\n",
       "In 1878 voltooide ik de studie medicijnen aan de universiteit van Londen. Daarna volgde ik in Netley de cursus chirurgie in het leger. Nadat ik mijn studie daar had voltooid, werd ik prompt ingelijfd als assistent-chirurg bij het vijfde regiment Northumberland Fusiliers. Het regiment was toen gelegerd in India, en voordat ik me bij hen kon voegen, was de tweede Afghaanse oorlog uitgebroken. Bij aankomst in Bombay vernam ik dat mijn regiment de passen was overgestoken en zich al diep in vijandelijk gebied bevond. Ik volgde echter -samen met vele andere officiers die zich in een vergelijkbare situatie bevonden. We bereikten veilig Kandahar, waar ik mijn regiment aantrof en waar ik mij meteen aan mijn nieuwe plichten wijdde. Voor velen bracht de veldtocht eer en promotie; mij leverde deze slechts rampen en ongeluk op. Ik werd bij mijn brigade weggehaald en toegevoegd aan de Berkshires. Met hen diende ik in de fatale slag van Maiwand, waar ik een Jezail-kogel in mijn schouder kreeg. De kogel versplinterde het bot en ging vlak langs mijn halsslagader. Ik zou zeker in handen van de moordlustige Ghazis zijn gevallen als mijn ordonnans Murray niet zo toegewijd en moedig was geweest. Hij legde me over een pakpaard en slaagde erin mij terug te brengen naar de Britse linies. Verzwakt door de langdurige ontberingen en doodop van de pijn werd ik in een trein vol gewonden naar het basisziekenhuis in Peshawar vervoerd. Hier kwam ik op krachten. Ik was al voldoende hersteld om een beetje rond te lopen en wat te zonnen op de veranda, toen ik werd geveld door tyfus, de vloek van onze Indiase kolonien. Maandenlang werd voor mijn leven gevreesd. Toen ik eindelijk bijkwam en begon te herstellen, was ik zo zwak dat een medisch comite besloot mij onverwijld terug te sturen naar Engeland. Ik werd meteen afgevoerd met het troepenschip Orontes en stapte een maand later de pier van Porthsmouth op. Mijn gezondheid was voorgoed geruineerd maar onze vaderlijke regering gaf me toch toestemming om negen maanden lang te proberen er iets aan te doen. In Engeland had ik kind noch kraai en ik was dus zo vrij als een vogeltje - althans, zo vrij als een man kan zijn met een inkomen van elf shilling en sixpence per dag. Door de omstandigheden kwam ik als vanzelf in Londen terecht: die poel van verderf waar alle nietsnutten en leeglopers van het koninkrijk heen worden gezogen. Daar verbleef ik enige tijd in een prive-hotel aan The Strand. Ik leidde een betekenisloos leven zonder comfort en ik gaf veel meer geld uit dan ik mij kon veroorloven. Mijn financiele status werd dermate zorgwekkend dat ik me realiseerde dat ik de metropool moest verlaten en dat ik ergens op het platteland moest gaan wonen of mijn levensstijl drastisch moest wijzingen. Ik koos de tweede mogelijkheid en besloot het hotel te verlaten en een goedkoper en minder chic onderkomen te betrekken. Op de dag waarop ik deze conclusie had getrokken, stond ik in cafe Criterion toen iemand me op de schouder tikte. Ik draaide me om en herkende de jonge Stamford, een van mijn ziekenverzorgers in Bart's Gasthuis. In de jungle van Londen is een vriendelijk gezicht beslist een weldaad voor een eenzame man. Vroeger was Stamford niet echt een goede vriend van me geweest maar nu verwelkomde ik hem enthousiast. Hij leek op zijn beurt heel blij mij te zien. In mijn geestdrift vroeg ik hem om samen te lunchen in het Holborn en we stapten samen in een rijtuig. 'Wat heb jij in hemelsnaam uitgespookt, Watson?' vroeg hij met ongeveinsde nieuwsgierigheid, toen we door de drukke Londense straten ratelden. 'Je bent zo mager als een lat en zo bruin als een kokosnoot. ' Ik gaf hem een korte samenvatting van mijn avonturen en ik was daar amper klaar mee toen we onze bestemming bereikten. 'Arme donder!' zei hij meelevend, toen hij mijn ellende had aangehoord. 'Wat ben je nu van plan?' 'Ik zoek een onderkomen, ' antwoordde ik. 'Ik probeer erachter te komen of het mogelijk is om comfortabele kamers te vinden voor een redelijke prijs. ' 'Dat is gek, ' merkte mijn metgezel op, 'je bent de tweede vandaag die deze opmerking maakt. ' 'En wie was de eerste?' vroeg ik. 'Een onderzoeksassistent die in het chemisch laboratorium van het ziekenhuis werkt. Hij beklaagde zich over het feit dat hij niemand kon vinden om een aantal mooie kamers met hem te delen dat te duur was voor zijn budget. 'Niet te geloven!' riep ik uit, 'als hij echt iemand zoekt om die kamers mee te delen, ben ik zijn man. Ik zou zelf ook liever gezelschap hebben. ' De jonge Stamford keek me op een vreemde manier aan over zijn wijnglas. 'Je kent Sherlock Holmes nog niet, ' zei hij, 'misschien zou je hem niet kiezen als permanent gezelschap. ' 'Waarom, wat mankeert er aan hem?' 'O, ik zeg niet dat er iets aan hem mankeert. Hij heeft alleen een beetje vreemde ideeen -- hij is nogal enthousiast bezig met bepaalde takken van wetenschap. Voor zover ik weet, is hij verder een prima kerel. ' 'Student medicijnen, neem ik aan?' zei ik. 'Nee - ik heb geen idee wat hij precies doet. Ik geloof dat hij ver is met anatomie, en hij is een eersteklas chemicus, maar ik geloof niet dat hij de medicijnenstudie systematisch aanpakt. Zijn manier van studeren is nogal onsamenhangend en excentriek maar hij heeft een heleboel ongewone kennis verzameld waarover zijn professoren verbaasd zouden zijn. ' 'Heb je hem nooit gevraagd wat zijn bedoelingen zijn?' vroeg ik. 'Nee, hij is niet zo spraakzaam, al kan hij je, als hij de geest heeft, de oren van de kop kletsen. ' 'Ik zou hem wel willen ontmoeten, ' zei ik. 'Als ik met iemand ga samenwonen, verkies ik een rustig en studerend iemand. Ik ben nog niet sterk genoeg om veel herrie of opwinding aan te kunnen. In Afghanistan heb ik genoeg gehad voor de rest van mijn leven. Hoe kan ik die vriend van je ontmoeten?' 'Hij is zeker in het lab, ' antwoordde Stamford. 'Of hij komt er wekenlang niet, of hij is er van 's morgens vroeg tot 's avonds laat aan het werk. Als je wilt, kunnen we er na de lunch wel heen gaan. ' 'Graag, ' antwoordde ik, en de conversatie nam een andere wending. Toen we onderweg waren naar het ziekenhuis, gaf Stamford me nog een paar bijzonderheden over de man waarmee ik wilde gaan samenwonen. 'Je moet het mij niet kwalijk nemen als je niet met hem kunt opschieten, ' zei hij. 'Ik weet niet meer van hem dan wat ik heb opgemaakt uit een aantal ontmoetingen op het lab. Deze afspraak is jouw idee, ik ben niet verantwoordelijk. ' 'Als we niet met elkaar overweg kunnen, is het makkelijk genoeg om afscheid te nemen, ' antwoordde ik. 'Het lijkt wel, Stamford, ' voegde ik eraan toe terwijl ik hem scherp aankeek, 'dat je een reden hebt om je handen in onschuld te wassen. Is deze man zo vreselijk humeurig, of wat is het? Biecht eens op. ' 'Hoe zal ik het zeggen, ' antwoordde hij met een lach. 'Holmes is een beetje te wetenschappelijk naar mijn smaak. Ik zou me voor kunnen stellen dat hij een vriend een snuifje van de nieuwste groentealkaloide geeft, niet uit kwaadaardigheid, maar gewoon uit belangstelling voor het precieze effect ervan. Ik denk trouwens dat hij het zelf met evenveel enthousiasme zou innemen. Hij blijkt een passie te hebben voor precies omschreven exacte kennis. ' 'En terecht. ' 'Jawel, maar het kan te ver gaan. Als je lijken in de snijkamer met een stok gaat slaan, neemt het toch wel bizarre vormen aan. ' 'Slaan met een stok?' 'Jazeker, om te laten zien in hoeverre er blauwe plekken kunnen worden veroorzaakt na de dood. Ik zag het hem doen - met mijn eigen ogen. ' 'En toch zeg je dat hij geen medicijnen studeert?' 'Nee, God mag weten waarmee hij zich bezighoudt. Maar we zijn er en je moet je eigen oordeel maar over hem vormen. ' Terwijl hij sprak, sloegen we een smal laantje in en we stapten door een kleine zijdeur een vleugel van het grote ziekenhuis binnen. Ik was hier bekend, en ik had geen gids nodig toen we de grauwe stenen trap beklommen en verder liepen door de lange gang met uitzicht op witgepleisterde muren en muisgrijze deuren. Aan het uiteinde was een zijgang met een boog erboven; deze leidde naar het chemisch laboratorium. Het was een kamer met een zeer hoog plafond die boordevol flessen stond. Overal stonden brede, lage tafels die glinsterden van de destilleerkolven, testbuisjes en kleine bunsenbranders met hun flakkerende blauwe vlammen. Er was maar een student in de kamer; hij stond gebogen over een verre tafel en ging helemaal op in zijn werk. Door het geluid van onze voetstappen keek hij om en sprong hij overeind met een kreet van plezier. 'Ik heb het gevonden! Ik heb het gevonden, ' riep hij, en rende naar ons toe met een testbuisje in zijn hand. 'Ik heb een reagens gevonden dat bezinkt door hemoglobine, en nergens anders door. ' De ontdekking van een goudmijn zou hem niet meer hebben laten stralen. 'Dokter Watson, meneer Sherlock Holmes, ' zei Stamford terwijl hij ons aan elkaar voorstelde. 'Hoe gaat het met u?' zei hij vormelijk, terwijl hij mijn hand vastgreep met een kracht die ik niet van hem had verwacht. 'U bent in Afghanistan geweest, begrijp ik. ' 'Hoe weet u dat in godsnaam?' vroeg ik verbaasd. 'Laat maar, ' zei hij bij zichzelf grinnikend. 'We hebben het nu over hemoglobine. U ziet ongetwijfeld de betekenis van mijn ontdekking?' 'Chemisch gezien is het zeker interessant, ' antwoordde ik, 'maar in de praktijk... ' 'Nee, het is de meest praktische medisch-wettelijke ontdekking sinds jaren. Ziet u niet dat het ons een feilloze test geeft voor bloedvlekken? Kom eens even hier!' In zijn enthousiasme trok hij me mee aan de mouw van mijn jas naar de tafel waar hij aan het werk was geweest. 'We nemen wat vers bloed, ' zei hij, en hij stak met een naald in zijn vinger waarna hij de resulterende druppel bloed opnam met een pipet. 'Nu voeg ik deze kleine hoeveelheid bloed toe aan een liter water. U ziet dat het resulterende mengsel eruitziet als gewoon water. De verhouding bloed-water kan niet groter zijn dan een op een miljoen. Ik twijfel er echter niet aan dat we in staat zullen zijn om de karakteristieke reactie te veroorzaken. ' Tijdens het spreken wierp hij een paar witte kristallen in het water en voegde daar een paar druppels van een doorzichtige vloeistof aan toe. In een oogwenk nam de vloeistof een lichte mahoniekleur aan, en er sloeg een bruinachtig stof neer op de bodem van de glazen kom. 'Ha! Ha!' riep hij en klapte in zijn handen. Hij was zo blij als een kind met nieuw speelgoed... 'Wat zegt u me daarvan?' 'Het lijkt een zeer gevoelige test, ' merkte ik op. 'Prachtig! Prachtig! De oude guaiac-test was erg omslachtig en onbetrouwbaar. Dat geldt ook voor de microscooptest voor bloedlichaampjes. Die laatste is onbruikbaar als de vlekken een paar uur oud zijn. Welnu, deze blijkt goed te werken, of het bloed nu oud is of vers. Als deze test eerder was uitgevonden, dan zouden honderden mannen die nu vrij rond lopen, lang geleden de straf voor hun misdaden hebben ondergaan. ' 'Tuurlijk!' mompelde ik. 'Strafzaken draaien voortdurend om dat ene punt. Een man wordt van een misdaad verdacht, een maand nadat die is begaan. Zijn kleren worden onderzocht en men vindt er bruinachtige vlekken op. Is het bloed, modder of roest, misschien fruit, wat kan het zijn? Menig expert heeft met deze vraag geworsteld, en waarom? Omdat er geen betrouwbare test was. Nu hebben we de Sherlock Holmes-test, en de problemen zijn voorbij. ' Terwijl hij sprak, glinsterden zijn ogen letterlijk en hij legde zijn hand op zijn hart en boog alsof er een applaudisserende menigte werd opgeroepen door zijn verbeelding. 'Ik moet u feliciteren, ' merkte ik op, behoorlijk verrast door zijn enthousiasme. 'Vorig jaar was er de zaak Von Bisschoff in Frankfurt. Als deze test had bestaan, was de dader beslist opgehangen. Verder had je Mason in Bradford, de beruchte Muller, en Lefevre uit Montpellier, Samson uit New Orleans. Ik kan een heleboel zaken noemen waarin de test beslissend zou zijn geweest. ' 'Je lijkt wel een wandelende misdaadencyclopedie, ' zei Stamford lachend. 'Je kunt wel een krant beginnen. Noem hem \"Politienieuws uit het verleden. ' 'Dat zou best interessant kunnen zijn, ' zei Sherlock Holmes, terwijl hij een klein pleistertje over het gaatje in zijn vinger plakte. 'Ik moet voorzichtig zijn, ' vervolgde hij en hij draaide zich met een glimlach mijn kant uit, 'want ik rommel heel vaak met giftige stoffen. ' Hij stak zijn hand uit terwijl hij sprak en ik zag dat die bezaaid was met vergelijkbare pleistertjes en was verkleurd door sterke zuren. 'We kwamen hier voor zaken, ' zei Stamford. Hij ging op een hoge kruk met drie poten zitten en schoof met zijn voet een andere in mijn richting. 'Mijn vriend hier wil ergens neerstrijken en omdat jij erover klaagde dat je geen medehuurder kon vinden, dacht ik dat ik jullie maar bij elkaar moest brengen. ' Sherlock Holmes leek het een geweldig idee te vinden zijn kamers met mij te delen. 'Ik heb mijn oog laten vallen op een suite in Baker Street, ' zei hij, 'die zou bijzonder geschikt voor ons zijn. U hebt niets tegen de geur van sterke tabak hoop ik?' 'Ik rook zelf altijd \"Ships\", ' antwoordde ik. 'Dat is prima. Ik ben meestal met chemicalien bezig en ik voer soms experimenten uit. Zou u daar bezwaar tegen hebben?' 'Absoluut niet. ' 'Laten we eens kijken... wat zijn verder mijn slechte kanten? Ik heb wel eens last van neerslachtigheid, dan doe ik dagenlang mijn mond niet open. U moet dan niet denken dat ik chagrijnig ben. Laat me maar gewoon met rust, dan komt het wel weer goed. Wat hebt u op te biechten? Het is het beste voor twee heren als ze eikaars slechtste gewoonten kennen voordat ze samen gaan wonen. ' Ik lachte om zijn ondervraging. 'Ik heb een buldogpuppy, ' zei ik, 'ik heb bezwaar tegen herrie omdat mijn zenuwen in de war zijn, ik sta op de onmogelijkste tijden op en ik ben uitzonderlijk lui. Als ik me goed voel heb ik nog andere slechte eigenschappen maar op dit moment zijn dat de belangrijkste. ' 'Valt vioolspelen in de categorie herrie?' vroeg hij bezorgd. 'Dat hangt af van de speler, ' antwoordde ik. 'Goed vioolspel is een verrukking voor de ziel... slecht spel... ' 'O, dat zit wel goed, ' riep hij vrolijk, 'ik denk dat we er vanuit kunnen gaan dat de zaak beklonken is... tenminste, als de kamers u bevallen. ' 'Wanneer kunnen we ze bekijken?' 'Kom morgen om twaalf uur hier langs, dan gaan we er samen heen en regelen we alles, ' antwoordde hij. 'Prima... precies om twaalf uur, ' zei ik en ik schudde hem de hand. We lieten hem achter tussen zijn chemicalien en we liepen naar mijn hotel. 'Tussen haakjes, ' vroeg ik plotseling, terwijl ik stopte en me tot Stamford wendde, 'hoe kon hij weten dat ik in Afghanistan was geweest?' Mijn metgezel liet een raadselachtig lachje zien. 'Dat is gewoon een eigenaardigheid van hem, ' zei hij, 'er zijn heel wat mensen die willen weten hoe hij achter dingen komt. ' 'O, het is dus geheim?' riep ik uit, en ik wreef in mijn handen. 'Dat is pikant om te horen. Ik dank je hartelijk dat je ons hebt samengebracht, het interessantste studieobject blijft de mens. ' 'Bestudeer hem dan maar, ' zei Stamford toen hij me gedag zei. 'Je zult hem echter wel een lastig probleem vinden. Ik wed dat hij meer over jouw aan de weet komt dan jij over hem. Tot ziens. ' 'Tot ziens, ' antwoordde ik, en ik liep door naar mijn hotel, zeer geinteresseerd in mijn nieuwe kennis."
      ]
     },
     "metadata": {},
     "output_type": "display_data"
    }
   ],
   "source": [
    "String.Join(\"\\n\\n\",\n",
    "    nl.QuerySelectorAll(\"span, p, h2, h3\")\n",
    "        .where(fun x -> x.Children.forall(function | :? AngleSharp.Html.Dom.IHtmlBreakRowElement -> true | _ -> false))\n",
    "        .map(fun x -> normalizeSpaces x.TextContent)\n",
    "        .filter(fun s -> not (String.IsNullOrWhiteSpace s)))"
   ]
  },
  {
   "cell_type": "code",
   "execution_count": null,
   "metadata": {
    "dotnet_interactive": {
     "language": "fsharp"
    },
    "polyglot_notebook": {
     "kernelName": "fsharp"
    },
    "vscode": {
     "languageId": "polyglot-notebook"
    }
   },
   "outputs": [],
   "source": []
  }
 ],
 "metadata": {
  "language_info": {
   "name": "python"
  },
  "orig_nbformat": 4
 },
 "nbformat": 4,
 "nbformat_minor": 2
}
